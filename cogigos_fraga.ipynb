{
 "cells": [
  {
   "cell_type": "code",
   "execution_count": null,
   "metadata": {},
   "outputs": [],
   "source": [
    "# A3:\n",
    "#Questão 1:"
   ]
  },
  {
   "cell_type": "code",
   "execution_count": 5,
   "metadata": {},
   "outputs": [],
   "source": [
    "import pandas as pd\n",
    "import matplotlib.pyplot as plt\n",
    "import seaborn as sns\n",
    "import numpy as np\n"
   ]
  },
  {
   "cell_type": "code",
   "execution_count": 6,
   "metadata": {},
   "outputs": [],
   "source": [
    "df = pd.read_csv('GDP.csv')"
   ]
  },
  {
   "cell_type": "code",
   "execution_count": 17,
   "metadata": {},
   "outputs": [
    {
     "name": "stdout",
     "output_type": "stream",
     "text": [
      "          Country                                         Region       Year  \\\n",
      "0     Afghanistan  Middle East, North Africa, and Greater Arabia 1901-01-01   \n",
      "1     Afghanistan  Middle East, North Africa, and Greater Arabia 1906-01-01   \n",
      "2     Afghanistan  Middle East, North Africa, and Greater Arabia 1911-01-01   \n",
      "3     Afghanistan  Middle East, North Africa, and Greater Arabia 1916-01-01   \n",
      "4     Afghanistan  Middle East, North Africa, and Greater Arabia 1921-01-01   \n",
      "...           ...                                            ...        ...   \n",
      "4414     Zimbabwe                             Sub-Saharan Africa 1991-01-01   \n",
      "4415     Zimbabwe                             Sub-Saharan Africa 1996-01-01   \n",
      "4416     Zimbabwe                             Sub-Saharan Africa 2001-01-01   \n",
      "4417     Zimbabwe                             Sub-Saharan Africa 2006-01-01   \n",
      "4418     Zimbabwe                             Sub-Saharan Africa 2011-01-01   \n",
      "\n",
      "       GDP_pp    ANO  \n",
      "0      613.99   1901  \n",
      "1      624.04   1906  \n",
      "2      634.25   1911  \n",
      "3      647.28   1916  \n",
      "4      662.40   1921  \n",
      "...        ...   ...  \n",
      "4414   782.09   1991  \n",
      "4415   781.50   1996  \n",
      "4416   719.96   2001  \n",
      "4417   520.17   2006  \n",
      "4418   526.33   2011  \n",
      "\n",
      "[4419 rows x 5 columns]\n"
     ]
    }
   ],
   "source": [
    "print(df)"
   ]
  },
  {
   "cell_type": "code",
   "execution_count": 8,
   "metadata": {},
   "outputs": [],
   "source": [
    "# Removendo linhas duplicadas\n",
    "df.drop_duplicates(inplace=True)\n"
   ]
  },
  {
   "cell_type": "code",
   "execution_count": 16,
   "metadata": {},
   "outputs": [
    {
     "name": "stdout",
     "output_type": "stream",
     "text": [
      "          Country                                         Region       Year  \\\n",
      "0     Afghanistan  Middle East, North Africa, and Greater Arabia 1901-01-01   \n",
      "1     Afghanistan  Middle East, North Africa, and Greater Arabia 1906-01-01   \n",
      "2     Afghanistan  Middle East, North Africa, and Greater Arabia 1911-01-01   \n",
      "3     Afghanistan  Middle East, North Africa, and Greater Arabia 1916-01-01   \n",
      "4     Afghanistan  Middle East, North Africa, and Greater Arabia 1921-01-01   \n",
      "...           ...                                            ...        ...   \n",
      "4414     Zimbabwe                             Sub-Saharan Africa 1991-01-01   \n",
      "4415     Zimbabwe                             Sub-Saharan Africa 1996-01-01   \n",
      "4416     Zimbabwe                             Sub-Saharan Africa 2001-01-01   \n",
      "4417     Zimbabwe                             Sub-Saharan Africa 2006-01-01   \n",
      "4418     Zimbabwe                             Sub-Saharan Africa 2011-01-01   \n",
      "\n",
      "       GDP_pp    ANO  \n",
      "0      613.99   1901  \n",
      "1      624.04   1906  \n",
      "2      634.25   1911  \n",
      "3      647.28   1916  \n",
      "4      662.40   1921  \n",
      "...        ...   ...  \n",
      "4414   782.09   1991  \n",
      "4415   781.50   1996  \n",
      "4416   719.96   2001  \n",
      "4417   520.17   2006  \n",
      "4418   526.33   2011  \n",
      "\n",
      "[4419 rows x 5 columns]\n"
     ]
    }
   ],
   "source": [
    "# Suponha que 'df' seja o seu DataFrame\n",
    "df['Year'] = pd.to_datetime(df['Year'], format='%d/%m/%Y')\n",
    "df['ANO'] = df['Year'].dt.year\n",
    "print(df)"
   ]
  },
  {
   "cell_type": "code",
   "execution_count": 19,
   "metadata": {},
   "outputs": [
    {
     "name": "stdout",
     "output_type": "stream",
     "text": [
      "       ANO     ano\n",
      "0   1901.0     NaN\n",
      "1   2025.0     NaN\n",
      "2      NaN  1901.0\n",
      "3      NaN  1906.0\n",
      "4      NaN  1911.0\n",
      "5      NaN  1916.0\n",
      "6      NaN  1921.0\n",
      "7      NaN  1926.0\n",
      "8      NaN  1931.0\n",
      "9      NaN  1936.0\n",
      "10     NaN  1941.0\n",
      "11     NaN  1946.0\n",
      "12     NaN  1951.0\n",
      "13     NaN  1956.0\n",
      "14     NaN  1961.0\n",
      "15     NaN  1966.0\n",
      "16     NaN  1971.0\n",
      "17     NaN  1976.0\n",
      "18     NaN  1981.0\n",
      "19     NaN  1986.0\n",
      "20     NaN  1991.0\n",
      "21     NaN  1996.0\n",
      "22     NaN  2001.0\n",
      "23     NaN  2006.0\n",
      "24     NaN  2011.0\n",
      "25     NaN  2016.0\n",
      "26     NaN  2021.0\n"
     ]
    }
   ],
   "source": [
    "df = pd.DataFrame({\n",
    "    'ANO': [1901, 2025]\n",
    "})\n",
    "\n",
    "# Encontre o ano mínimo e máximo no DataFrame\n",
    "ano_minimo = df['ANO'].min()\n",
    "ano_maximo = df['ANO'].max()\n",
    "\n",
    "# Crie uma lista com os anos preenchidos em intervalos de 5 anos\n",
    "anos_preenchidos = list(range(ano_minimo, ano_maximo + 1, 5))\n",
    "\n",
    "# Crie um novo DataFrame com os anos preenchidos\n",
    "df_preenchido = pd.DataFrame({'ano': anos_preenchidos})\n",
    "\n",
    "# Mescla os DataFrames originais e preenchidos\n",
    "df_final = pd.concat([df, df_preenchido], ignore_index=True)\n",
    "\n",
    "print(df_final)"
   ]
  },
  {
   "cell_type": "code",
   "execution_count": 20,
   "metadata": {},
   "outputs": [
    {
     "name": "stdout",
     "output_type": "stream",
     "text": [
      "Interpolated values: [14.0, 18.0, 22.0, 26.0, 30.0]\n"
     ]
    }
   ],
   "source": [
    "def interpolate_values(value1, value2, num_points):\n",
    "    \"\"\"\n",
    "    Interpolates values between value1 and value2.\n",
    "    Calculates the average, divides by 5, and returns interpolated values.\n",
    "    \"\"\"\n",
    "    # Calculate the average between value1 and value2\n",
    "    average = (value1 + value2) / 2\n",
    "\n",
    "    # Divide the average by 5\n",
    "    step = average / 5\n",
    "\n",
    "    # Generate interpolated values\n",
    "    interpolated_values = []\n",
    "    for i in range(1, num_points + 1):\n",
    "        interpolated_values.append(value1 + i * step)\n",
    "\n",
    "    return interpolated_values\n",
    "\n",
    "# Example usage\n",
    "value1 = 10\n",
    "value2 = 30\n",
    "num_points = 5\n",
    "\n",
    "interpolated_values = interpolate_values(value1, value2, num_points)\n",
    "print(\"Interpolated values:\", interpolated_values)"
   ]
  }
 ],
 "metadata": {
  "kernelspec": {
   "display_name": "Python 3",
   "language": "python",
   "name": "python3"
  },
  "language_info": {
   "codemirror_mode": {
    "name": "ipython",
    "version": 3
   },
   "file_extension": ".py",
   "mimetype": "text/x-python",
   "name": "python",
   "nbconvert_exporter": "python",
   "pygments_lexer": "ipython3",
   "version": "3.11.9"
  }
 },
 "nbformat": 4,
 "nbformat_minor": 2
}
