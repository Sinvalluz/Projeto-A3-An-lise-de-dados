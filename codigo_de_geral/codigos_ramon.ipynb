{
 "cells": [
  {
   "cell_type": "code",
   "execution_count": 1,
   "id": "a9037a5d-41cb-4667-af28-12338b1e251c",
   "metadata": {},
   "outputs": [],
   "source": [
    "import pandas as pd\n",
    "import matplotlib.pyplot as plt\n",
    "import seaborn as sns\n",
    "import numpy as np\n",
    "import matplotlib.ticker as mtick"
   ]
  },
  {
   "cell_type": "code",
   "execution_count": 2,
   "id": "39302033-606f-4e4c-9a26-4de2bf16a66e",
   "metadata": {},
   "outputs": [],
   "source": [
    "df = pd.read_csv('../datasets/pib_per_capita/GDP.csv')"
   ]
  },
  {
   "cell_type": "code",
   "execution_count": 3,
   "id": "92f0216f-cc3c-4f76-a6df-e6f7d0207156",
   "metadata": {},
   "outputs": [
    {
     "data": {
      "text/html": [
       "<div>\n",
       "<style scoped>\n",
       "    .dataframe tbody tr th:only-of-type {\n",
       "        vertical-align: middle;\n",
       "    }\n",
       "\n",
       "    .dataframe tbody tr th {\n",
       "        vertical-align: top;\n",
       "    }\n",
       "\n",
       "    .dataframe thead th {\n",
       "        text-align: right;\n",
       "    }\n",
       "</style>\n",
       "<table border=\"1\" class=\"dataframe\">\n",
       "  <thead>\n",
       "    <tr style=\"text-align: right;\">\n",
       "      <th></th>\n",
       "      <th>Country</th>\n",
       "      <th>Region</th>\n",
       "      <th>Year</th>\n",
       "      <th>GDP_pp</th>\n",
       "    </tr>\n",
       "  </thead>\n",
       "  <tbody>\n",
       "    <tr>\n",
       "      <th>0</th>\n",
       "      <td>Afghanistan</td>\n",
       "      <td>Middle East, North Africa, and Greater Arabia</td>\n",
       "      <td>1/1/1901</td>\n",
       "      <td>613.99</td>\n",
       "    </tr>\n",
       "    <tr>\n",
       "      <th>1</th>\n",
       "      <td>Afghanistan</td>\n",
       "      <td>Middle East, North Africa, and Greater Arabia</td>\n",
       "      <td>1/1/1906</td>\n",
       "      <td>624.04</td>\n",
       "    </tr>\n",
       "    <tr>\n",
       "      <th>2</th>\n",
       "      <td>Afghanistan</td>\n",
       "      <td>Middle East, North Africa, and Greater Arabia</td>\n",
       "      <td>1/1/1911</td>\n",
       "      <td>634.25</td>\n",
       "    </tr>\n",
       "    <tr>\n",
       "      <th>3</th>\n",
       "      <td>Afghanistan</td>\n",
       "      <td>Middle East, North Africa, and Greater Arabia</td>\n",
       "      <td>1/1/1916</td>\n",
       "      <td>647.28</td>\n",
       "    </tr>\n",
       "    <tr>\n",
       "      <th>4</th>\n",
       "      <td>Afghanistan</td>\n",
       "      <td>Middle East, North Africa, and Greater Arabia</td>\n",
       "      <td>1/1/1921</td>\n",
       "      <td>662.40</td>\n",
       "    </tr>\n",
       "    <tr>\n",
       "      <th>...</th>\n",
       "      <td>...</td>\n",
       "      <td>...</td>\n",
       "      <td>...</td>\n",
       "      <td>...</td>\n",
       "    </tr>\n",
       "    <tr>\n",
       "      <th>4414</th>\n",
       "      <td>Zimbabwe</td>\n",
       "      <td>Sub-Saharan Africa</td>\n",
       "      <td>1/1/1991</td>\n",
       "      <td>782.09</td>\n",
       "    </tr>\n",
       "    <tr>\n",
       "      <th>4415</th>\n",
       "      <td>Zimbabwe</td>\n",
       "      <td>Sub-Saharan Africa</td>\n",
       "      <td>1/1/1996</td>\n",
       "      <td>781.50</td>\n",
       "    </tr>\n",
       "    <tr>\n",
       "      <th>4416</th>\n",
       "      <td>Zimbabwe</td>\n",
       "      <td>Sub-Saharan Africa</td>\n",
       "      <td>1/1/2001</td>\n",
       "      <td>719.96</td>\n",
       "    </tr>\n",
       "    <tr>\n",
       "      <th>4417</th>\n",
       "      <td>Zimbabwe</td>\n",
       "      <td>Sub-Saharan Africa</td>\n",
       "      <td>1/1/2006</td>\n",
       "      <td>520.17</td>\n",
       "    </tr>\n",
       "    <tr>\n",
       "      <th>4418</th>\n",
       "      <td>Zimbabwe</td>\n",
       "      <td>Sub-Saharan Africa</td>\n",
       "      <td>1/1/2011</td>\n",
       "      <td>526.33</td>\n",
       "    </tr>\n",
       "  </tbody>\n",
       "</table>\n",
       "<p>4419 rows × 4 columns</p>\n",
       "</div>"
      ],
      "text/plain": [
       "          Country                                         Region      Year  \\\n",
       "0     Afghanistan  Middle East, North Africa, and Greater Arabia  1/1/1901   \n",
       "1     Afghanistan  Middle East, North Africa, and Greater Arabia  1/1/1906   \n",
       "2     Afghanistan  Middle East, North Africa, and Greater Arabia  1/1/1911   \n",
       "3     Afghanistan  Middle East, North Africa, and Greater Arabia  1/1/1916   \n",
       "4     Afghanistan  Middle East, North Africa, and Greater Arabia  1/1/1921   \n",
       "...           ...                                            ...       ...   \n",
       "4414     Zimbabwe                             Sub-Saharan Africa  1/1/1991   \n",
       "4415     Zimbabwe                             Sub-Saharan Africa  1/1/1996   \n",
       "4416     Zimbabwe                             Sub-Saharan Africa  1/1/2001   \n",
       "4417     Zimbabwe                             Sub-Saharan Africa  1/1/2006   \n",
       "4418     Zimbabwe                             Sub-Saharan Africa  1/1/2011   \n",
       "\n",
       "       GDP_pp   \n",
       "0      613.99   \n",
       "1      624.04   \n",
       "2      634.25   \n",
       "3      647.28   \n",
       "4      662.40   \n",
       "...        ...  \n",
       "4414   782.09   \n",
       "4415   781.50   \n",
       "4416   719.96   \n",
       "4417   520.17   \n",
       "4418   526.33   \n",
       "\n",
       "[4419 rows x 4 columns]"
      ]
     },
     "execution_count": 3,
     "metadata": {},
     "output_type": "execute_result"
    }
   ],
   "source": [
    "#mostra o dataframe\n",
    "df"
   ]
  },
  {
   "cell_type": "code",
   "execution_count": 4,
   "id": "4bf722c3-1d7e-4d84-9b87-a1743a060ea8",
   "metadata": {},
   "outputs": [],
   "source": [
    "# Removendo linhas duplicadas\n",
    "df.drop_duplicates(inplace=True)"
   ]
  },
  {
   "cell_type": "code",
   "execution_count": 5,
   "id": "df25ce64-fb93-45dc-9ae4-4e7746b39322",
   "metadata": {},
   "outputs": [],
   "source": [
    "# Padronizar e limpar os nomes das colunas\n",
    "df.columns = df.columns.str.strip()  # Remover espaços extras no início e no fim\n",
    "df.columns = df.columns.str.lower()  # Converter para minúsculas\n",
    "df.columns = df.columns.str.replace(' ', '_')  # Substituir espaços por sublinhados\n",
    "df.columns = df.columns.str.replace(r'[^\\w\\s]', '')  # Remover caracteres especiais, mantendo letras, números e espaços"
   ]
  },
  {
   "cell_type": "code",
   "execution_count": 6,
   "id": "4e71bf89-488b-4f61-b306-36d4d9187651",
   "metadata": {},
   "outputs": [
    {
     "data": {
      "text/html": [
       "<div>\n",
       "<style scoped>\n",
       "    .dataframe tbody tr th:only-of-type {\n",
       "        vertical-align: middle;\n",
       "    }\n",
       "\n",
       "    .dataframe tbody tr th {\n",
       "        vertical-align: top;\n",
       "    }\n",
       "\n",
       "    .dataframe thead th {\n",
       "        text-align: right;\n",
       "    }\n",
       "</style>\n",
       "<table border=\"1\" class=\"dataframe\">\n",
       "  <thead>\n",
       "    <tr style=\"text-align: right;\">\n",
       "      <th></th>\n",
       "      <th>country</th>\n",
       "      <th>region</th>\n",
       "      <th>year</th>\n",
       "      <th>gdp_pp</th>\n",
       "    </tr>\n",
       "  </thead>\n",
       "  <tbody>\n",
       "    <tr>\n",
       "      <th>0</th>\n",
       "      <td>Afghanistan</td>\n",
       "      <td>Middle East, North Africa, and Greater Arabia</td>\n",
       "      <td>1901</td>\n",
       "      <td>613.99</td>\n",
       "    </tr>\n",
       "    <tr>\n",
       "      <th>1</th>\n",
       "      <td>Afghanistan</td>\n",
       "      <td>Middle East, North Africa, and Greater Arabia</td>\n",
       "      <td>1906</td>\n",
       "      <td>624.04</td>\n",
       "    </tr>\n",
       "    <tr>\n",
       "      <th>2</th>\n",
       "      <td>Afghanistan</td>\n",
       "      <td>Middle East, North Africa, and Greater Arabia</td>\n",
       "      <td>1911</td>\n",
       "      <td>634.25</td>\n",
       "    </tr>\n",
       "    <tr>\n",
       "      <th>3</th>\n",
       "      <td>Afghanistan</td>\n",
       "      <td>Middle East, North Africa, and Greater Arabia</td>\n",
       "      <td>1916</td>\n",
       "      <td>647.28</td>\n",
       "    </tr>\n",
       "    <tr>\n",
       "      <th>4</th>\n",
       "      <td>Afghanistan</td>\n",
       "      <td>Middle East, North Africa, and Greater Arabia</td>\n",
       "      <td>1921</td>\n",
       "      <td>662.40</td>\n",
       "    </tr>\n",
       "    <tr>\n",
       "      <th>...</th>\n",
       "      <td>...</td>\n",
       "      <td>...</td>\n",
       "      <td>...</td>\n",
       "      <td>...</td>\n",
       "    </tr>\n",
       "    <tr>\n",
       "      <th>4414</th>\n",
       "      <td>Zimbabwe</td>\n",
       "      <td>Sub-Saharan Africa</td>\n",
       "      <td>1991</td>\n",
       "      <td>782.09</td>\n",
       "    </tr>\n",
       "    <tr>\n",
       "      <th>4415</th>\n",
       "      <td>Zimbabwe</td>\n",
       "      <td>Sub-Saharan Africa</td>\n",
       "      <td>1996</td>\n",
       "      <td>781.50</td>\n",
       "    </tr>\n",
       "    <tr>\n",
       "      <th>4416</th>\n",
       "      <td>Zimbabwe</td>\n",
       "      <td>Sub-Saharan Africa</td>\n",
       "      <td>2001</td>\n",
       "      <td>719.96</td>\n",
       "    </tr>\n",
       "    <tr>\n",
       "      <th>4417</th>\n",
       "      <td>Zimbabwe</td>\n",
       "      <td>Sub-Saharan Africa</td>\n",
       "      <td>2006</td>\n",
       "      <td>520.17</td>\n",
       "    </tr>\n",
       "    <tr>\n",
       "      <th>4418</th>\n",
       "      <td>Zimbabwe</td>\n",
       "      <td>Sub-Saharan Africa</td>\n",
       "      <td>2011</td>\n",
       "      <td>526.33</td>\n",
       "    </tr>\n",
       "  </tbody>\n",
       "</table>\n",
       "<p>4419 rows × 4 columns</p>\n",
       "</div>"
      ],
      "text/plain": [
       "          country                                         region  year  \\\n",
       "0     Afghanistan  Middle East, North Africa, and Greater Arabia  1901   \n",
       "1     Afghanistan  Middle East, North Africa, and Greater Arabia  1906   \n",
       "2     Afghanistan  Middle East, North Africa, and Greater Arabia  1911   \n",
       "3     Afghanistan  Middle East, North Africa, and Greater Arabia  1916   \n",
       "4     Afghanistan  Middle East, North Africa, and Greater Arabia  1921   \n",
       "...           ...                                            ...   ...   \n",
       "4414     Zimbabwe                             Sub-Saharan Africa  1991   \n",
       "4415     Zimbabwe                             Sub-Saharan Africa  1996   \n",
       "4416     Zimbabwe                             Sub-Saharan Africa  2001   \n",
       "4417     Zimbabwe                             Sub-Saharan Africa  2006   \n",
       "4418     Zimbabwe                             Sub-Saharan Africa  2011   \n",
       "\n",
       "        gdp_pp  \n",
       "0      613.99   \n",
       "1      624.04   \n",
       "2      634.25   \n",
       "3      647.28   \n",
       "4      662.40   \n",
       "...        ...  \n",
       "4414   782.09   \n",
       "4415   781.50   \n",
       "4416   719.96   \n",
       "4417   520.17   \n",
       "4418   526.33   \n",
       "\n",
       "[4419 rows x 4 columns]"
      ]
     },
     "execution_count": 6,
     "metadata": {},
     "output_type": "execute_result"
    }
   ],
   "source": [
    "# Transformando tabela anos em datatime\n",
    "df['year'] = pd.to_datetime(df['year'], errors='coerce')\n",
    "# Formatando para aparecer somente os anos\n",
    "df['year'] = df['year'].dt.year.astype('int64')\n",
    "# Substituindo valores de 0 para NaN na coluna do pib\n",
    "\n",
    "df"
   ]
  },
  {
   "cell_type": "code",
   "execution_count": 7,
   "id": "cb9cabcf-50b0-4212-af09-5731224a655e",
   "metadata": {},
   "outputs": [],
   "source": [
    "# Limpar os valores na coluna 'gdp_pp' e converter para float\n",
    "df['gdp_pp'] = df['gdp_pp'].str.strip().str.replace(',', '').astype(float)"
   ]
  },
  {
   "cell_type": "code",
   "execution_count": 8,
   "id": "05f119dd-753e-46c1-a955-9f89b51fd0a8",
   "metadata": {},
   "outputs": [],
   "source": [
    "# Substituir os valores zerados na coluna 'gdp_pp' por NaN\n",
    "df['gdp_pp'] = df['gdp_pp'].replace(0, pd.NA)"
   ]
  },
  {
   "cell_type": "code",
   "execution_count": 9,
   "id": "d6695662",
   "metadata": {},
   "outputs": [],
   "source": [
    "def fill_years(group):\n",
    "    # Criar um range completo de anos\n",
    "    full_years = pd.DataFrame({'year': range(group['year'].min(), group['year'].max() + 1)})\n",
    "    # Merge com o grupo original para garantir todos os anos\n",
    "    group = full_years.merge(group, on='year', how='left')\n",
    "    # Preencher os valores de 'Paises' e 'Regiao'\n",
    "    group['country'] = group['country'].ffill()\n",
    "    group['region'] = group['region'].ffill()\n",
    "    return group\n",
    "\n",
    "# Aplicar o preenchimento para cada grupo de país e região\n",
    "df = df.groupby(['country', 'region'], group_keys=False).apply(fill_years)\n",
    "\n",
    "\n"
   ]
  },
  {
   "cell_type": "code",
   "execution_count": 10,
   "metadata": {},
   "outputs": [],
   "source": [
    "# Interpolando os valores ausentes\n",
    "df['gdp_pp'] = round(df['gdp_pp'].interpolate(), 2)"
   ]
  },
  {
   "cell_type": "code",
   "execution_count": 11,
   "id": "0dcdaeed-c860-4fe8-94f9-25daee08ddf9",
   "metadata": {},
   "outputs": [
    {
     "data": {
      "text/html": [
       "<div>\n",
       "<style scoped>\n",
       "    .dataframe tbody tr th:only-of-type {\n",
       "        vertical-align: middle;\n",
       "    }\n",
       "\n",
       "    .dataframe tbody tr th {\n",
       "        vertical-align: top;\n",
       "    }\n",
       "\n",
       "    .dataframe thead th {\n",
       "        text-align: right;\n",
       "    }\n",
       "</style>\n",
       "<table border=\"1\" class=\"dataframe\">\n",
       "  <thead>\n",
       "    <tr style=\"text-align: right;\">\n",
       "      <th></th>\n",
       "      <th>year</th>\n",
       "      <th>country</th>\n",
       "      <th>region</th>\n",
       "      <th>gdp_pp</th>\n",
       "    </tr>\n",
       "  </thead>\n",
       "  <tbody>\n",
       "    <tr>\n",
       "      <th>0</th>\n",
       "      <td>1901</td>\n",
       "      <td>Bangladesh</td>\n",
       "      <td>Asia</td>\n",
       "      <td>690.52</td>\n",
       "    </tr>\n",
       "    <tr>\n",
       "      <th>0</th>\n",
       "      <td>1901</td>\n",
       "      <td>Bhutan</td>\n",
       "      <td>Asia</td>\n",
       "      <td>625.21</td>\n",
       "    </tr>\n",
       "    <tr>\n",
       "      <th>0</th>\n",
       "      <td>1901</td>\n",
       "      <td>Brunei</td>\n",
       "      <td>Asia</td>\n",
       "      <td>1315.52</td>\n",
       "    </tr>\n",
       "    <tr>\n",
       "      <th>0</th>\n",
       "      <td>1901</td>\n",
       "      <td>Cambodia</td>\n",
       "      <td>Asia</td>\n",
       "      <td>723.53</td>\n",
       "    </tr>\n",
       "    <tr>\n",
       "      <th>0</th>\n",
       "      <td>1901</td>\n",
       "      <td>China</td>\n",
       "      <td>Asia</td>\n",
       "      <td>803.06</td>\n",
       "    </tr>\n",
       "    <tr>\n",
       "      <th>...</th>\n",
       "      <td>...</td>\n",
       "      <td>...</td>\n",
       "      <td>...</td>\n",
       "      <td>...</td>\n",
       "    </tr>\n",
       "    <tr>\n",
       "      <th>110</th>\n",
       "      <td>2011</td>\n",
       "      <td>Tanzania</td>\n",
       "      <td>Sub-Saharan Africa</td>\n",
       "      <td>1269.58</td>\n",
       "    </tr>\n",
       "    <tr>\n",
       "      <th>110</th>\n",
       "      <td>2011</td>\n",
       "      <td>Togo</td>\n",
       "      <td>Sub-Saharan Africa</td>\n",
       "      <td>949.34</td>\n",
       "    </tr>\n",
       "    <tr>\n",
       "      <th>110</th>\n",
       "      <td>2011</td>\n",
       "      <td>Uganda</td>\n",
       "      <td>Sub-Saharan Africa</td>\n",
       "      <td>1260.03</td>\n",
       "    </tr>\n",
       "    <tr>\n",
       "      <th>110</th>\n",
       "      <td>2011</td>\n",
       "      <td>Zambia</td>\n",
       "      <td>Sub-Saharan Africa</td>\n",
       "      <td>1480.69</td>\n",
       "    </tr>\n",
       "    <tr>\n",
       "      <th>110</th>\n",
       "      <td>2011</td>\n",
       "      <td>Zimbabwe</td>\n",
       "      <td>Sub-Saharan Africa</td>\n",
       "      <td>526.33</td>\n",
       "    </tr>\n",
       "  </tbody>\n",
       "</table>\n",
       "<p>21323 rows × 4 columns</p>\n",
       "</div>"
      ],
      "text/plain": [
       "     year     country              region   gdp_pp\n",
       "0    1901  Bangladesh                Asia   690.52\n",
       "0    1901      Bhutan                Asia   625.21\n",
       "0    1901      Brunei                Asia  1315.52\n",
       "0    1901    Cambodia                Asia   723.53\n",
       "0    1901       China                Asia   803.06\n",
       "..    ...         ...                 ...      ...\n",
       "110  2011    Tanzania  Sub-Saharan Africa  1269.58\n",
       "110  2011        Togo  Sub-Saharan Africa   949.34\n",
       "110  2011      Uganda  Sub-Saharan Africa  1260.03\n",
       "110  2011      Zambia  Sub-Saharan Africa  1480.69\n",
       "110  2011    Zimbabwe  Sub-Saharan Africa   526.33\n",
       "\n",
       "[21323 rows x 4 columns]"
      ]
     },
     "execution_count": 11,
     "metadata": {},
     "output_type": "execute_result"
    }
   ],
   "source": [
    "# Ordenar os dados por região e ano\n",
    "df = df.sort_values(by=['region', 'year'])\n",
    "\n",
    "df"
   ]
  },
  {
   "cell_type": "code",
   "execution_count": 12,
   "id": "0c60d9fa-236f-4c85-a837-210d39d2fc07",
   "metadata": {},
   "outputs": [],
   "source": [
    "# Calculando a média do PIB per capita por região\n",
    "region_avg_gdp = df.groupby('region')['gdp_pp'].mean()"
   ]
  },
  {
   "cell_type": "code",
   "execution_count": 13,
   "id": "c51b9693-bddc-48aa-8b9a-a56f020d0b9b",
   "metadata": {},
   "outputs": [
    {
     "data": {
      "text/plain": [
       "region\n",
       "Asia                                              3747.932149\n",
       "Australia and Oceania                             4548.101903\n",
       "Central America and the Caribbean                 4224.481361\n",
       "Europe                                            9910.714232\n",
       "Middle East, North Africa, and Greater Arabia     7403.491054\n",
       "North America                                    13789.415608\n",
       "South America                                     4308.555638\n",
       "Sub-Saharan Africa                                1535.748018\n",
       "Name: gdp_pp, dtype: float64"
      ]
     },
     "execution_count": 13,
     "metadata": {},
     "output_type": "execute_result"
    }
   ],
   "source": [
    "region_avg_gdp"
   ]
  },
  {
   "cell_type": "code",
   "execution_count": 14,
   "id": "e385b504-4b2e-47c3-b3c4-1f5deaa5f25d",
   "metadata": {},
   "outputs": [],
   "source": [
    "\n",
    "# Arredondar para dois caracteres após o ponto decimal\n",
    "df['gdp_per_capita_growth'] = df['gdp_pp'].round(2)\n"
   ]
  },
  {
   "cell_type": "code",
   "execution_count": 15,
   "id": "bdb911e9-2b87-4bd6-bbcb-9a58382dcacd",
   "metadata": {},
   "outputs": [],
   "source": [
    "# Multiplicar por 100 para converter em porcentagem\n",
    "df['gdp_per_capita_growth'] *= 100\n"
   ]
  },
  {
   "cell_type": "code",
   "execution_count": 16,
   "id": "f482a129-b559-4fd2-a9dd-4b5adf14c821",
   "metadata": {},
   "outputs": [],
   "source": [
    "# Calcular o crescimento acumulado total para cada região no período analisado\n",
    "region_growth = df.groupby('region')['gdp_per_capita_growth'].last().sort_values(ascending=False)"
   ]
  },
  {
   "cell_type": "code",
   "execution_count": 17,
   "id": "3f4838a4-3415-41e9-bdf3-c2978cd5b51c",
   "metadata": {},
   "outputs": [
    {
     "data": {
      "text/plain": [
       "Index(['North America', 'Europe', 'Central America and the Caribbean'], dtype='object', name='region')"
      ]
     },
     "execution_count": 17,
     "metadata": {},
     "output_type": "execute_result"
    }
   ],
   "source": [
    "# Selecionar as três regiões que mais cresceram\n",
    "top_regions = region_growth.head(3).index\n",
    "top_regions"
   ]
  },
  {
   "cell_type": "code",
   "execution_count": 18,
   "id": "9eedb25e-8363-4fc1-ab3f-185bbaed2deb",
   "metadata": {},
   "outputs": [],
   "source": [
    "# Filtrar o DataFrame para conter apenas essas três regiões\n",
    "df_top_regions = df[df['region'].isin(top_regions)]"
   ]
  },
  {
   "cell_type": "code",
   "execution_count": 19,
   "id": "41e6622a-6206-489c-a80d-921b2bc486f2",
   "metadata": {},
   "outputs": [],
   "source": [
    "# Calculando a média do PIB per capita por região e limitando para duas casas decimais\n",
    "region_avg_gdp = df.groupby('region')['gdp_pp'].mean().round(2)"
   ]
  },
  {
   "cell_type": "code",
   "execution_count": 20,
   "id": "e19c28f6-d19a-48a3-9188-dc873bbadf9f",
   "metadata": {},
   "outputs": [
    {
     "data": {
      "text/plain": [
       "region\n",
       "Asia                                              3747.93\n",
       "Australia and Oceania                             4548.10\n",
       "Central America and the Caribbean                 4224.48\n",
       "Europe                                            9910.71\n",
       "Middle East, North Africa, and Greater Arabia     7403.49\n",
       "North America                                    13789.42\n",
       "South America                                     4308.56\n",
       "Sub-Saharan Africa                                1535.75\n",
       "Name: gdp_pp, dtype: float64"
      ]
     },
     "execution_count": 20,
     "metadata": {},
     "output_type": "execute_result"
    }
   ],
   "source": [
    "region_avg_gdp\n"
   ]
  },
  {
   "cell_type": "code",
   "execution_count": 21,
   "id": "c2b82152-1883-4ff1-bc6e-f08c77e6eb89",
   "metadata": {},
   "outputs": [
    {
     "data": {
      "text/html": [
       "<div>\n",
       "<style scoped>\n",
       "    .dataframe tbody tr th:only-of-type {\n",
       "        vertical-align: middle;\n",
       "    }\n",
       "\n",
       "    .dataframe tbody tr th {\n",
       "        vertical-align: top;\n",
       "    }\n",
       "\n",
       "    .dataframe thead th {\n",
       "        text-align: right;\n",
       "    }\n",
       "</style>\n",
       "<table border=\"1\" class=\"dataframe\">\n",
       "  <thead>\n",
       "    <tr style=\"text-align: right;\">\n",
       "      <th></th>\n",
       "      <th>year</th>\n",
       "      <th>country</th>\n",
       "      <th>region</th>\n",
       "      <th>gdp_pp</th>\n",
       "      <th>gdp_per_capita_growth</th>\n",
       "    </tr>\n",
       "  </thead>\n",
       "  <tbody>\n",
       "    <tr>\n",
       "      <th>0</th>\n",
       "      <td>1901</td>\n",
       "      <td>Bangladesh</td>\n",
       "      <td>Asia</td>\n",
       "      <td>690.52</td>\n",
       "      <td>69052.0</td>\n",
       "    </tr>\n",
       "    <tr>\n",
       "      <th>0</th>\n",
       "      <td>1901</td>\n",
       "      <td>Bhutan</td>\n",
       "      <td>Asia</td>\n",
       "      <td>625.21</td>\n",
       "      <td>62521.0</td>\n",
       "    </tr>\n",
       "    <tr>\n",
       "      <th>0</th>\n",
       "      <td>1901</td>\n",
       "      <td>Brunei</td>\n",
       "      <td>Asia</td>\n",
       "      <td>1315.52</td>\n",
       "      <td>131552.0</td>\n",
       "    </tr>\n",
       "    <tr>\n",
       "      <th>0</th>\n",
       "      <td>1901</td>\n",
       "      <td>Cambodia</td>\n",
       "      <td>Asia</td>\n",
       "      <td>723.53</td>\n",
       "      <td>72353.0</td>\n",
       "    </tr>\n",
       "    <tr>\n",
       "      <th>0</th>\n",
       "      <td>1901</td>\n",
       "      <td>China</td>\n",
       "      <td>Asia</td>\n",
       "      <td>803.06</td>\n",
       "      <td>80306.0</td>\n",
       "    </tr>\n",
       "    <tr>\n",
       "      <th>...</th>\n",
       "      <td>...</td>\n",
       "      <td>...</td>\n",
       "      <td>...</td>\n",
       "      <td>...</td>\n",
       "      <td>...</td>\n",
       "    </tr>\n",
       "    <tr>\n",
       "      <th>110</th>\n",
       "      <td>2011</td>\n",
       "      <td>Tanzania</td>\n",
       "      <td>Sub-Saharan Africa</td>\n",
       "      <td>1269.58</td>\n",
       "      <td>126958.0</td>\n",
       "    </tr>\n",
       "    <tr>\n",
       "      <th>110</th>\n",
       "      <td>2011</td>\n",
       "      <td>Togo</td>\n",
       "      <td>Sub-Saharan Africa</td>\n",
       "      <td>949.34</td>\n",
       "      <td>94934.0</td>\n",
       "    </tr>\n",
       "    <tr>\n",
       "      <th>110</th>\n",
       "      <td>2011</td>\n",
       "      <td>Uganda</td>\n",
       "      <td>Sub-Saharan Africa</td>\n",
       "      <td>1260.03</td>\n",
       "      <td>126003.0</td>\n",
       "    </tr>\n",
       "    <tr>\n",
       "      <th>110</th>\n",
       "      <td>2011</td>\n",
       "      <td>Zambia</td>\n",
       "      <td>Sub-Saharan Africa</td>\n",
       "      <td>1480.69</td>\n",
       "      <td>148069.0</td>\n",
       "    </tr>\n",
       "    <tr>\n",
       "      <th>110</th>\n",
       "      <td>2011</td>\n",
       "      <td>Zimbabwe</td>\n",
       "      <td>Sub-Saharan Africa</td>\n",
       "      <td>526.33</td>\n",
       "      <td>52633.0</td>\n",
       "    </tr>\n",
       "  </tbody>\n",
       "</table>\n",
       "<p>21323 rows × 5 columns</p>\n",
       "</div>"
      ],
      "text/plain": [
       "     year     country              region   gdp_pp  gdp_per_capita_growth\n",
       "0    1901  Bangladesh                Asia   690.52                69052.0\n",
       "0    1901      Bhutan                Asia   625.21                62521.0\n",
       "0    1901      Brunei                Asia  1315.52               131552.0\n",
       "0    1901    Cambodia                Asia   723.53                72353.0\n",
       "0    1901       China                Asia   803.06                80306.0\n",
       "..    ...         ...                 ...      ...                    ...\n",
       "110  2011    Tanzania  Sub-Saharan Africa  1269.58               126958.0\n",
       "110  2011        Togo  Sub-Saharan Africa   949.34                94934.0\n",
       "110  2011      Uganda  Sub-Saharan Africa  1260.03               126003.0\n",
       "110  2011      Zambia  Sub-Saharan Africa  1480.69               148069.0\n",
       "110  2011    Zimbabwe  Sub-Saharan Africa   526.33                52633.0\n",
       "\n",
       "[21323 rows x 5 columns]"
      ]
     },
     "execution_count": 21,
     "metadata": {},
     "output_type": "execute_result"
    }
   ],
   "source": [
    "df"
   ]
  },
  {
   "cell_type": "code",
   "execution_count": 22,
   "id": "9f060bd9-ab14-4fb0-b12e-3990f6aba76b",
   "metadata": {},
   "outputs": [
    {
     "data": {
      "image/png": "[encoded data removed]",
      "text/plain": [
       "<Figure size 1000x600 with 1 Axes>"
      ]
     },
     "metadata": {},
     "output_type": "display_data"
    }
   ],
   "source": [
    "plt.figure(figsize=(10, 6))\n",
    "region_avg_gdp.plot(kind='bar', color='skyblue')\n",
    "plt.title('Média do PIB per capita por Região')\n",
    "plt.xlabel('Região')\n",
    "plt.ylabel('Média do PIB per capita')\n",
    "plt.xticks(rotation=45, ha='right')\n",
    "plt.tight_layout()\n",
    "plt.show()"
   ]
  },
  {
   "cell_type": "code",
   "execution_count": 23,
   "id": "c3333130-ccf0-4fc9-934e-45d8ce2ff4dc",
   "metadata": {},
   "outputs": [],
   "source": [
    "df_obesity = pd.read_csv('../datasets/obesidade/obesity-cleaned.csv')"
   ]
  },
  {
   "cell_type": "code",
   "execution_count": 24,
   "id": "581034bf-5699-4af5-a457-5dbe5b5f03dd",
   "metadata": {},
   "outputs": [
    {
     "name": "stdout",
     "output_type": "stream",
     "text": [
      "       Unnamed: 0      Country  Year       Obesity (%)         Sex\n",
      "0               0  Afghanistan  1975     0.5 [0.2-1.1]  Both sexes\n",
      "1               1  Afghanistan  1975     0.2 [0.0-0.6]        Male\n",
      "2               2  Afghanistan  1975     0.8 [0.2-2.0]      Female\n",
      "3               3  Afghanistan  1976     0.5 [0.2-1.1]  Both sexes\n",
      "4               4  Afghanistan  1976     0.2 [0.0-0.7]        Male\n",
      "...           ...          ...   ...               ...         ...\n",
      "24565       24565     Zimbabwe  2015     4.5 [2.4-7.6]        Male\n",
      "24566       24566     Zimbabwe  2015  24.8 [18.9-31.3]      Female\n",
      "24567       24567     Zimbabwe  2016  15.5 [12.0-19.2]  Both sexes\n",
      "24568       24568     Zimbabwe  2016     4.7 [2.5-8.0]        Male\n",
      "24569       24569     Zimbabwe  2016  25.3 [19.1-32.0]      Female\n",
      "\n",
      "[24570 rows x 5 columns]\n"
     ]
    }
   ],
   "source": [
    "#mostra o dataframe\n",
    "print(df_obesity)"
   ]
  },
  {
   "cell_type": "code",
   "execution_count": 25,
   "id": "c55e6efb-8995-485b-94f3-cdf58d5c6eee",
   "metadata": {},
   "outputs": [],
   "source": [
    "# Tratar os nomes das colunas do DataFrame de obesidade\n",
    "df_obesity = df_obesity.drop(columns=['Unnamed: 0'])  # Remover a coluna 'Unnamed: 0'\n",
    "df_obesity.columns = df_obesity.columns.str.strip()  # Remover espaços nos nomes das colunas"
   ]
  },
  {
   "cell_type": "code",
   "execution_count": 26,
   "id": "fa9c2934-b3b1-422d-9e72-a016f5ace387",
   "metadata": {},
   "outputs": [
    {
     "name": "stdout",
     "output_type": "stream",
     "text": [
      "           Country  Year       Obesity (%)         Sex\n",
      "0      Afghanistan  1975     0.5 [0.2-1.1]  Both sexes\n",
      "1      Afghanistan  1975     0.2 [0.0-0.6]        Male\n",
      "2      Afghanistan  1975     0.8 [0.2-2.0]      Female\n",
      "3      Afghanistan  1976     0.5 [0.2-1.1]  Both sexes\n",
      "4      Afghanistan  1976     0.2 [0.0-0.7]        Male\n",
      "...            ...   ...               ...         ...\n",
      "24565     Zimbabwe  2015     4.5 [2.4-7.6]        Male\n",
      "24566     Zimbabwe  2015  24.8 [18.9-31.3]      Female\n",
      "24567     Zimbabwe  2016  15.5 [12.0-19.2]  Both sexes\n",
      "24568     Zimbabwe  2016     4.7 [2.5-8.0]        Male\n",
      "24569     Zimbabwe  2016  25.3 [19.1-32.0]      Female\n",
      "\n",
      "[24570 rows x 4 columns]\n"
     ]
    }
   ],
   "source": [
    "print(df_obesity)"
   ]
  },
  {
   "cell_type": "code",
   "execution_count": 27,
   "id": "4249c065-2ca0-461e-b391-211e811ef344",
   "metadata": {},
   "outputs": [],
   "source": [
    "# Remover todos os caracteres depois do espaço na coluna 'Obesity (%)'\n",
    "df_obesity['Obesity (%)'] = df_obesity['Obesity (%)'].str.split().str[0]"
   ]
  },
  {
   "cell_type": "code",
   "execution_count": 28,
   "id": "fe49e05c-db10-4a3b-aaad-7e466b8765b8",
   "metadata": {},
   "outputs": [],
   "source": [
    "# Converter a coluna 'Obesity (%)' para float, ignorando os erros\n",
    "df_obesity['Obesity (%)'] = pd.to_numeric(df_obesity['Obesity (%)'], errors='coerce')"
   ]
  },
  {
   "cell_type": "code",
   "execution_count": 29,
   "id": "43260a11-2bf5-4de4-83e0-7af9d3c64d8a",
   "metadata": {},
   "outputs": [
    {
     "name": "stdout",
     "output_type": "stream",
     "text": [
      "           Country  Year  Obesity (%)         Sex\n",
      "0      Afghanistan  1975          0.5  Both sexes\n",
      "1      Afghanistan  1975          0.2        Male\n",
      "2      Afghanistan  1975          0.8      Female\n",
      "3      Afghanistan  1976          0.5  Both sexes\n",
      "4      Afghanistan  1976          0.2        Male\n",
      "...            ...   ...          ...         ...\n",
      "24565     Zimbabwe  2015          4.5        Male\n",
      "24566     Zimbabwe  2015         24.8      Female\n",
      "24567     Zimbabwe  2016         15.5  Both sexes\n",
      "24568     Zimbabwe  2016          4.7        Male\n",
      "24569     Zimbabwe  2016         25.3      Female\n",
      "\n",
      "[24570 rows x 4 columns]\n"
     ]
    }
   ],
   "source": [
    "print(df_obesity)"
   ]
  },
  {
   "cell_type": "code",
   "execution_count": 30,
   "id": "ec842dfc-655c-41db-bdf7-5d1cc276521c",
   "metadata": {},
   "outputs": [],
   "source": [
    "# Incluir a coluna \"region\" no DataFrame de obesidade\n",
    "df_obesity = df_obesity.merge(df[['country', 'region']], left_on='Country', right_on='country', how='left')\n",
    "df_obesity = df_obesity.drop(columns=['country'])  # Remover a coluna duplicada 'country'\n",
    "df_obesity\n"
   ]
  },
  {
   "cell_type": "code",
   "execution_count": 31,
   "id": "a0fb710f-e66d-4796-a046-ef42a3e179e4",
   "metadata": {},
   "outputs": [
    {
     "data": {
      "text/html": [
       "<div>\n",
       "<style scoped>\n",
       "    .dataframe tbody tr th:only-of-type {\n",
       "        vertical-align: middle;\n",
       "    }\n",
       "\n",
       "    .dataframe tbody tr th {\n",
       "        vertical-align: top;\n",
       "    }\n",
       "\n",
       "    .dataframe thead th {\n",
       "        text-align: right;\n",
       "    }\n",
       "</style>\n",
       "<table border=\"1\" class=\"dataframe\">\n",
       "  <thead>\n",
       "    <tr style=\"text-align: right;\">\n",
       "      <th></th>\n",
       "      <th>Country</th>\n",
       "      <th>Year</th>\n",
       "      <th>Obesity (%)</th>\n",
       "      <th>Sex</th>\n",
       "      <th>region</th>\n",
       "    </tr>\n",
       "  </thead>\n",
       "  <tbody>\n",
       "    <tr>\n",
       "      <th>0</th>\n",
       "      <td>Afghanistan</td>\n",
       "      <td>1975</td>\n",
       "      <td>0.5</td>\n",
       "      <td>Both sexes</td>\n",
       "      <td>Middle East, North Africa, and Greater Arabia</td>\n",
       "    </tr>\n",
       "    <tr>\n",
       "      <th>1</th>\n",
       "      <td>Afghanistan</td>\n",
       "      <td>1975</td>\n",
       "      <td>0.5</td>\n",
       "      <td>Both sexes</td>\n",
       "      <td>Middle East, North Africa, and Greater Arabia</td>\n",
       "    </tr>\n",
       "    <tr>\n",
       "      <th>2</th>\n",
       "      <td>Afghanistan</td>\n",
       "      <td>1975</td>\n",
       "      <td>0.5</td>\n",
       "      <td>Both sexes</td>\n",
       "      <td>Middle East, North Africa, and Greater Arabia</td>\n",
       "    </tr>\n",
       "    <tr>\n",
       "      <th>3</th>\n",
       "      <td>Afghanistan</td>\n",
       "      <td>1975</td>\n",
       "      <td>0.5</td>\n",
       "      <td>Both sexes</td>\n",
       "      <td>Middle East, North Africa, and Greater Arabia</td>\n",
       "    </tr>\n",
       "    <tr>\n",
       "      <th>4</th>\n",
       "      <td>Afghanistan</td>\n",
       "      <td>1975</td>\n",
       "      <td>0.5</td>\n",
       "      <td>Both sexes</td>\n",
       "      <td>Middle East, North Africa, and Greater Arabia</td>\n",
       "    </tr>\n",
       "    <tr>\n",
       "      <th>...</th>\n",
       "      <td>...</td>\n",
       "      <td>...</td>\n",
       "      <td>...</td>\n",
       "      <td>...</td>\n",
       "      <td>...</td>\n",
       "    </tr>\n",
       "    <tr>\n",
       "      <th>2324065</th>\n",
       "      <td>Zimbabwe</td>\n",
       "      <td>2016</td>\n",
       "      <td>25.3</td>\n",
       "      <td>Female</td>\n",
       "      <td>Sub-Saharan Africa</td>\n",
       "    </tr>\n",
       "    <tr>\n",
       "      <th>2324066</th>\n",
       "      <td>Zimbabwe</td>\n",
       "      <td>2016</td>\n",
       "      <td>25.3</td>\n",
       "      <td>Female</td>\n",
       "      <td>Sub-Saharan Africa</td>\n",
       "    </tr>\n",
       "    <tr>\n",
       "      <th>2324067</th>\n",
       "      <td>Zimbabwe</td>\n",
       "      <td>2016</td>\n",
       "      <td>25.3</td>\n",
       "      <td>Female</td>\n",
       "      <td>Sub-Saharan Africa</td>\n",
       "    </tr>\n",
       "    <tr>\n",
       "      <th>2324068</th>\n",
       "      <td>Zimbabwe</td>\n",
       "      <td>2016</td>\n",
       "      <td>25.3</td>\n",
       "      <td>Female</td>\n",
       "      <td>Sub-Saharan Africa</td>\n",
       "    </tr>\n",
       "    <tr>\n",
       "      <th>2324069</th>\n",
       "      <td>Zimbabwe</td>\n",
       "      <td>2016</td>\n",
       "      <td>25.3</td>\n",
       "      <td>Female</td>\n",
       "      <td>Sub-Saharan Africa</td>\n",
       "    </tr>\n",
       "  </tbody>\n",
       "</table>\n",
       "<p>2324070 rows × 5 columns</p>\n",
       "</div>"
      ],
      "text/plain": [
       "             Country  Year  Obesity (%)         Sex  \\\n",
       "0        Afghanistan  1975          0.5  Both sexes   \n",
       "1        Afghanistan  1975          0.5  Both sexes   \n",
       "2        Afghanistan  1975          0.5  Both sexes   \n",
       "3        Afghanistan  1975          0.5  Both sexes   \n",
       "4        Afghanistan  1975          0.5  Both sexes   \n",
       "...              ...   ...          ...         ...   \n",
       "2324065     Zimbabwe  2016         25.3      Female   \n",
       "2324066     Zimbabwe  2016         25.3      Female   \n",
       "2324067     Zimbabwe  2016         25.3      Female   \n",
       "2324068     Zimbabwe  2016         25.3      Female   \n",
       "2324069     Zimbabwe  2016         25.3      Female   \n",
       "\n",
       "                                                region  \n",
       "0        Middle East, North Africa, and Greater Arabia  \n",
       "1        Middle East, North Africa, and Greater Arabia  \n",
       "2        Middle East, North Africa, and Greater Arabia  \n",
       "3        Middle East, North Africa, and Greater Arabia  \n",
       "4        Middle East, North Africa, and Greater Arabia  \n",
       "...                                                ...  \n",
       "2324065                             Sub-Saharan Africa  \n",
       "2324066                             Sub-Saharan Africa  \n",
       "2324067                             Sub-Saharan Africa  \n",
       "2324068                             Sub-Saharan Africa  \n",
       "2324069                             Sub-Saharan Africa  \n",
       "\n",
       "[2324070 rows x 5 columns]"
      ]
     },
     "execution_count": 31,
     "metadata": {},
     "output_type": "execute_result"
    }
   ],
   "source": [
    "df_obesity"
   ]
  },
  {
   "cell_type": "code",
   "execution_count": 32,
   "id": "0e2bed6c-d019-4c42-9b31-07b258395250",
   "metadata": {},
   "outputs": [],
   "source": [
    "# Calcular a média de obesidade para cada região\n",
    "region_avg_obesity = df_obesity.groupby('region')['Obesity (%)'].mean().reset_index()"
   ]
  },
  {
   "cell_type": "code",
   "execution_count": 37,
   "id": "3d0a3072-03e7-4348-abbf-7667e929499c",
   "metadata": {},
   "outputs": [
    {
     "data": {
      "text/html": [
       "<div>\n",
       "<style scoped>\n",
       "    .dataframe tbody tr th:only-of-type {\n",
       "        vertical-align: middle;\n",
       "    }\n",
       "\n",
       "    .dataframe tbody tr th {\n",
       "        vertical-align: top;\n",
       "    }\n",
       "\n",
       "    .dataframe thead th {\n",
       "        text-align: right;\n",
       "    }\n",
       "</style>\n",
       "<table border=\"1\" class=\"dataframe\">\n",
       "  <thead>\n",
       "    <tr style=\"text-align: right;\">\n",
       "      <th></th>\n",
       "      <th>region</th>\n",
       "      <th>gdp_pp</th>\n",
       "      <th>Obesity (%)</th>\n",
       "    </tr>\n",
       "  </thead>\n",
       "  <tbody>\n",
       "    <tr>\n",
       "      <th>0</th>\n",
       "      <td>Asia</td>\n",
       "      <td>3747.93</td>\n",
       "      <td>4.747543</td>\n",
       "    </tr>\n",
       "    <tr>\n",
       "      <th>1</th>\n",
       "      <td>Australia and Oceania</td>\n",
       "      <td>4548.10</td>\n",
       "      <td>26.114702</td>\n",
       "    </tr>\n",
       "    <tr>\n",
       "      <th>2</th>\n",
       "      <td>Central America and the Caribbean</td>\n",
       "      <td>4224.48</td>\n",
       "      <td>13.471596</td>\n",
       "    </tr>\n",
       "    <tr>\n",
       "      <th>3</th>\n",
       "      <td>Europe</td>\n",
       "      <td>9910.71</td>\n",
       "      <td>15.151351</td>\n",
       "    </tr>\n",
       "    <tr>\n",
       "      <th>4</th>\n",
       "      <td>Middle East, North Africa, and Greater Arabia</td>\n",
       "      <td>7403.49</td>\n",
       "      <td>17.818452</td>\n",
       "    </tr>\n",
       "    <tr>\n",
       "      <th>5</th>\n",
       "      <td>North America</td>\n",
       "      <td>13789.42</td>\n",
       "      <td>18.575794</td>\n",
       "    </tr>\n",
       "    <tr>\n",
       "      <th>6</th>\n",
       "      <td>South America</td>\n",
       "      <td>4308.56</td>\n",
       "      <td>14.659683</td>\n",
       "    </tr>\n",
       "    <tr>\n",
       "      <th>7</th>\n",
       "      <td>Sub-Saharan Africa</td>\n",
       "      <td>1535.75</td>\n",
       "      <td>4.857814</td>\n",
       "    </tr>\n",
       "  </tbody>\n",
       "</table>\n",
       "</div>"
      ],
      "text/plain": [
       "                                          region    gdp_pp  Obesity (%)\n",
       "0                                           Asia   3747.93     4.747543\n",
       "1                          Australia and Oceania   4548.10    26.114702\n",
       "2              Central America and the Caribbean   4224.48    13.471596\n",
       "3                                         Europe   9910.71    15.151351\n",
       "4  Middle East, North Africa, and Greater Arabia   7403.49    17.818452\n",
       "5                                  North America  13789.42    18.575794\n",
       "6                                  South America   4308.56    14.659683\n",
       "7                             Sub-Saharan Africa   1535.75     4.857814"
      ]
     },
     "execution_count": 37,
     "metadata": {},
     "output_type": "execute_result"
    }
   ],
   "source": [
    "# Unir os DataFrames de média de PIB e média de obesidade por região\n",
    "region_avg = pd.merge(region_avg_gdp, region_avg_obesity, on='region')\n",
    "region_avg\n"
   ]
  },
  {
   "cell_type": "code",
   "execution_count": 38,
   "id": "c747c242-f2ca-44dd-be9c-4e8db88a82d8",
   "metadata": {},
   "outputs": [
    {
     "data": {
      "text/plain": [
       "0.44943826663351366"
      ]
     },
     "execution_count": 38,
     "metadata": {},
     "output_type": "execute_result"
    }
   ],
   "source": [
    "# Calcular a correlação entre a média de renda per capita e a média de obesidade por região\n",
    "correlation = region_avg[['gdp_pp', 'Obesity (%)']].corr().iloc[0, 1]\n",
    "correlation\n"
   ]
  },
  {
   "cell_type": "code",
   "execution_count": 35,
   "id": "de796601-fdae-467a-b5e7-a643de172ea8",
   "metadata": {},
   "outputs": [
    {
     "data": {
      "image/png": "[encoded data removed]",
      "text/plain": [
       "<Figure size 1000x600 with 1 Axes>"
      ]
     },
     "metadata": {},
     "output_type": "display_data"
    }
   ],
   "source": [
    "# Plotar o gráfico de dispersão\n",
    "plt.figure(figsize=(10, 6))\n",
    "sns.scatterplot(data=region_avg, x='Obesity (%)', y='gdp_pp', hue='region', palette='Set2', s=100)\n",
    "plt.title('Média de Obesidade vs. Média de PIB per capita por Região')\n",
    "plt.xlabel('Média de Obesidade (%)')\n",
    "plt.ylabel('Média de PIB per capita')\n",
    "plt.grid(True, linestyle='--', alpha=0.7)\n",
    "plt.legend(title='Região', bbox_to_anchor=(1, 1), loc='upper left')  # Move a legenda para a parte inferior do gráfico\n",
    "plt.tight_layout()\n",
    "plt.show()"
   ]
  },
  {
   "cell_type": "code",
   "execution_count": 36,
   "id": "09ea1aa6-0340-4f8f-957e-37b9ea7d72d5",
   "metadata": {},
   "outputs": [
    {
     "data": {
      "image/png": "[encoded data removed]",
      "text/plain": [
       "<Figure size 1000x600 with 1 Axes>"
      ]
     },
     "metadata": {},
     "output_type": "display_data"
    }
   ],
   "source": [
    "# Plotar o gráfico de dispersão\n",
    "plt.figure(figsize=(10, 6))\n",
    "sns.scatterplot(data=region_avg, x='Obesity (%)', y='gdp_pp', hue='region', palette='Set2', s=100)\n",
    "plt.title('Média de Obesidade vs. Média de PIB per capita por Região')\n",
    "plt.xlabel('Média de Obesidade (%)')\n",
    "plt.ylabel('Média de PIB per capita')\n",
    "plt.grid(True, linestyle='--', alpha=0.7)\n",
    "\n",
    "# Mover a legenda para a parte inferior do gráfico e ordenar\n",
    "plt.legend(title='Região', bbox_to_anchor=(1, 1), loc='upper left', labels=region_avg['region'].tolist())  \n",
    "\n",
    "plt.tight_layout()\n",
    "plt.show()"
   ]
  },
  {
   "cell_type": "code",
   "execution_count": null,
   "id": "bb74e562-aa26-4d39-9fd5-d760f69988c5",
   "metadata": {},
   "outputs": [],
   "source": []
  }
 ],
 "metadata": {
  "kernelspec": {
   "display_name": "Python 3 (ipykernel)",
   "language": "python",
   "name": "python3"
  },
  "language_info": {
   "codemirror_mode": {
    "name": "ipython",
    "version": 3
   },
   "file_extension": ".py",
   "mimetype": "text/x-python",
   "name": "python",
   "nbconvert_exporter": "python",
   "pygments_lexer": "ipython3",
   "version": "3.11.7"
  }
 },
 "nbformat": 4,
 "nbformat_minor": 5
}
