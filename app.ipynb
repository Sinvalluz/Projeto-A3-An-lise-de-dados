{
 "cells": [
  {
   "cell_type": "code",
   "execution_count": 1,
   "metadata": {},
   "outputs": [],
   "source": [
    "# Importando todas as bibliotecas necessárias para o projeto\n",
    "import pandas as pd\n",
    "import numpy as np\n",
    "import matplotlib.pyplot as plt"
   ]
  },
  {
   "cell_type": "code",
   "execution_count": 2,
   "metadata": {},
   "outputs": [],
   "source": [
    "# Lendo todos os DataSets com pandas\n",
    "df_obesidade = pd.read_csv('./datasets/obesidade/obesity-cleaned.csv', sep=',', index_col=0)\n",
    "df_pib_per_capita = pd.read_csv('./datasets/pib_per_capita/GDP.csv', sep=',')"
   ]
  },
  {
   "cell_type": "markdown",
   "metadata": {},
   "source": [
    "## Limpando DataFrame de obesidade"
   ]
  },
  {
   "cell_type": "code",
   "execution_count": 22,
   "metadata": {},
   "outputs": [
    {
     "data": {
      "text/html": [
       "<div>\n",
       "<style scoped>\n",
       "    .dataframe tbody tr th:only-of-type {\n",
       "        vertical-align: middle;\n",
       "    }\n",
       "\n",
       "    .dataframe tbody tr th {\n",
       "        vertical-align: top;\n",
       "    }\n",
       "\n",
       "    .dataframe thead th {\n",
       "        text-align: right;\n",
       "    }\n",
       "</style>\n",
       "<table border=\"1\" class=\"dataframe\">\n",
       "  <thead>\n",
       "    <tr style=\"text-align: right;\">\n",
       "      <th></th>\n",
       "      <th>Paises</th>\n",
       "      <th>Ano</th>\n",
       "      <th>Sexo</th>\n",
       "      <th>Obesidade</th>\n",
       "    </tr>\n",
       "  </thead>\n",
       "  <tbody>\n",
       "    <tr>\n",
       "      <th>0</th>\n",
       "      <td>Afghanistan</td>\n",
       "      <td>1975</td>\n",
       "      <td>Both sexes</td>\n",
       "      <td>0.5</td>\n",
       "    </tr>\n",
       "    <tr>\n",
       "      <th>1</th>\n",
       "      <td>Afghanistan</td>\n",
       "      <td>1975</td>\n",
       "      <td>Male</td>\n",
       "      <td>0.2</td>\n",
       "    </tr>\n",
       "    <tr>\n",
       "      <th>2</th>\n",
       "      <td>Afghanistan</td>\n",
       "      <td>1975</td>\n",
       "      <td>Female</td>\n",
       "      <td>0.8</td>\n",
       "    </tr>\n",
       "    <tr>\n",
       "      <th>3</th>\n",
       "      <td>Afghanistan</td>\n",
       "      <td>1976</td>\n",
       "      <td>Both sexes</td>\n",
       "      <td>0.5</td>\n",
       "    </tr>\n",
       "    <tr>\n",
       "      <th>4</th>\n",
       "      <td>Afghanistan</td>\n",
       "      <td>1976</td>\n",
       "      <td>Male</td>\n",
       "      <td>0.2</td>\n",
       "    </tr>\n",
       "    <tr>\n",
       "      <th>...</th>\n",
       "      <td>...</td>\n",
       "      <td>...</td>\n",
       "      <td>...</td>\n",
       "      <td>...</td>\n",
       "    </tr>\n",
       "    <tr>\n",
       "      <th>24565</th>\n",
       "      <td>Zimbabwe</td>\n",
       "      <td>2015</td>\n",
       "      <td>Male</td>\n",
       "      <td>4.5</td>\n",
       "    </tr>\n",
       "    <tr>\n",
       "      <th>24566</th>\n",
       "      <td>Zimbabwe</td>\n",
       "      <td>2015</td>\n",
       "      <td>Female</td>\n",
       "      <td>24.8</td>\n",
       "    </tr>\n",
       "    <tr>\n",
       "      <th>24567</th>\n",
       "      <td>Zimbabwe</td>\n",
       "      <td>2016</td>\n",
       "      <td>Both sexes</td>\n",
       "      <td>15.5</td>\n",
       "    </tr>\n",
       "    <tr>\n",
       "      <th>24568</th>\n",
       "      <td>Zimbabwe</td>\n",
       "      <td>2016</td>\n",
       "      <td>Male</td>\n",
       "      <td>4.7</td>\n",
       "    </tr>\n",
       "    <tr>\n",
       "      <th>24569</th>\n",
       "      <td>Zimbabwe</td>\n",
       "      <td>2016</td>\n",
       "      <td>Female</td>\n",
       "      <td>25.3</td>\n",
       "    </tr>\n",
       "  </tbody>\n",
       "</table>\n",
       "<p>24066 rows × 4 columns</p>\n",
       "</div>"
      ],
      "text/plain": [
       "            Paises   Ano        Sexo  Obesidade\n",
       "0      Afghanistan  1975  Both sexes        0.5\n",
       "1      Afghanistan  1975        Male        0.2\n",
       "2      Afghanistan  1975      Female        0.8\n",
       "3      Afghanistan  1976  Both sexes        0.5\n",
       "4      Afghanistan  1976        Male        0.2\n",
       "...            ...   ...         ...        ...\n",
       "24565     Zimbabwe  2015        Male        4.5\n",
       "24566     Zimbabwe  2015      Female       24.8\n",
       "24567     Zimbabwe  2016  Both sexes       15.5\n",
       "24568     Zimbabwe  2016        Male        4.7\n",
       "24569     Zimbabwe  2016      Female       25.3\n",
       "\n",
       "[24066 rows x 4 columns]"
      ]
     },
     "execution_count": 22,
     "metadata": {},
     "output_type": "execute_result"
    }
   ],
   "source": [
    "# Criando um copia do DataFrame para melhor desempenho\n",
    "df_obesidade_copia = df_obesidade.copy()\n",
    "\n",
    "# Tratando coluna ['Obesity (%)'], onde excluir dados vazios\n",
    "df_obesidade_copia = df_obesidade_copia.loc[df_obesidade_copia['Obesity (%)'] != 'No data']\n",
    "# Criando uma coluna ['Obesity'] com os dados de obesidade convertidos para float (%)\n",
    "df_obesidade_copia['Obesity'] = df_obesidade_copia['Obesity (%)'].apply(lambda x: float(x.split(' ')[0]))\n",
    "# Apagando coluna ['Obesity (%)'] que ja foi tratada\n",
    "df_obesidade_copia = df_obesidade_copia.drop(columns=['Obesity (%)'])\n",
    "# Renomeando Colunas para o português\n",
    "df_obesidade_copia.rename(columns={'Country': 'Paises',\n",
    "                                   'Year': 'Ano',\n",
    "                                   'Sex': 'Sexo',\n",
    "                                   'Obesity': 'Obesidade'}, inplace=True)\n",
    "df_obesidade_copia"
   ]
  },
  {
   "cell_type": "markdown",
   "metadata": {},
   "source": [
    " ## Comparando a taxa de obesidade por sexo"
   ]
  },
  {
   "cell_type": "code",
   "execution_count": 31,
   "metadata": {},
   "outputs": [
    {
     "name": "stdout",
     "output_type": "stream",
     "text": [
      "Sexo\n",
      "Both sexes    12.48\n",
      "Female        15.53\n",
      "Male           9.33\n",
      "Name: Obesidade, dtype: float64\n",
      "Média de obesidade entre homens: 9.33%\n",
      "Média de obesidade entre homens: 15.53%\n"
     ]
    }
   ],
   "source": [
    "# Filtrando a média de obesidade por sexo e arredondando\n",
    "obesidade_media_por_sexo = df_obesidade_copia.groupby('Sexo')['Obesidade'].mean().round(2)\n",
    "print(obesidade_media_por_sexo)\n",
    "homem = obesidade_media_por_sexo['Male']\n",
    "mulher = obesidade_media_por_sexo['Female']\n",
    "\n",
    "\n",
    "# Printando resultados\n",
    "print(f'Média de obesidade entre homens: {homem}%')\n",
    "print(f'Média de obesidade entre homens: {mulher}%')"
   ]
  },
  {
   "cell_type": "code",
   "execution_count": null,
   "metadata": {},
   "outputs": [],
   "source": []
  }
 ],
 "metadata": {
  "kernelspec": {
   "display_name": "base",
   "language": "python",
   "name": "python3"
  },
  "language_info": {
   "codemirror_mode": {
    "name": "ipython",
    "version": 3
   },
   "file_extension": ".py",
   "mimetype": "text/x-python",
   "name": "python",
   "nbconvert_exporter": "python",
   "pygments_lexer": "ipython3",
   "version": "3.11.7"
  }
 },
 "nbformat": 4,
 "nbformat_minor": 2
}
